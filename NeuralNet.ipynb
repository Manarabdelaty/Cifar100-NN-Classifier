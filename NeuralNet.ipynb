{
 "cells": [
  {
   "cell_type": "code",
   "execution_count": 1,
   "metadata": {},
   "outputs": [],
   "source": [
    "import numpy as np\n",
    "import cifar100 as cf\n",
    "import matplotlib.pyplot as plt"
   ]
  },
  {
   "cell_type": "code",
   "execution_count": 233,
   "metadata": {},
   "outputs": [],
   "source": [
    "imgs, labels  = cf.load_data(cf.file_path+\"train\")\n",
    "Xtest , Ytest = cf.load_data(cf.file_path+\"test\")\n",
    "\n",
    "s = np.random.permutation(imgs.shape[0])           # randomly shuffle the images and their corresponding labels\n",
    "imgs   = imgs[s]\n",
    "labels = labels[s]\n",
    "\n",
    "Xtr = imgs[:45000]                   # 90 % of the data is used for training\n",
    "Ytr = labels[:45000]\n",
    "Xval = imgs[45000:]                  # 10 % for validation\n",
    "Yval = labels[45000:]"
   ]
  },
  {
   "cell_type": "code",
   "execution_count": 234,
   "metadata": {},
   "outputs": [],
   "source": [
    "mean_img = Xtr.mean()\n",
    "\n",
    "Xtr  = cf.zero_center(Xtr, mean_img)     # zero center validation and training data\n",
    "Xval = cf.zero_center(Xval, mean_img)\n",
    "Xtest = cf.zero_center(Xtest, mean_img)\n",
    "\n",
    "Xtr  = cf.convert_images(Xtr)           # scale image values to 0..1\n",
    "Xval = cf.convert_images(Xval)\n",
    "Xtest = cf.convert_images(Xtest)"
   ]
  },
  {
   "cell_type": "code",
   "execution_count": null,
   "metadata": {
    "collapsed": true
   },
   "outputs": [],
   "source": [
    "s = np.random.permutation(Xtr.shape[0])\n",
    "Xtr_shuffled = Xtr[s]\n",
    "Ytr_shuffled = Ytr[s]\n",
    "m = len(Ytr)\n",
    "Xtr_batch = Xtr_shuffled[m: m + batch_size] \n",
    "Ytr_batch = Ytr_shuffled[m: m + batch_size]   "
   ]
  },
  {
   "cell_type": "code",
   "execution_count": 357,
   "metadata": {},
   "outputs": [],
   "source": [
    "class NeuralNetwork():\n",
    "    \n",
    "    def __init__(self,D,k,hidden_layers,nodes,activ=0):   # D input dimensionality , K output dimensionality\n",
    "        self.activation_func = 0\n",
    "        # Initialize Network Paramaters\n",
    "        self.hidden_layers = hidden_layers     # Number of hidden layers\n",
    "        self.nodes = nodes                     # list of number of nodes per layer\n",
    "      \n",
    "        self.k = k\n",
    "        self.D = D\n",
    "       \n",
    "        \n",
    "       \n",
    "    def InitWeights(self):\n",
    "        \n",
    "        # Initialize Weights \n",
    "        self.Weights = np.empty(self.hidden_layers+1,dtype = object)                     # list of network weights\n",
    "        self.Weights[0]   = np.random.randn(self.D,self.nodes[0])/ np.sqrt(self.D/2.0)                   # first layer Weights [D X l1_nodes]\n",
    "        self.Weights[1:-1]= [np.random.randn(self.nodes[i-1],self.nodes[i])/np.sqrt(self.D/2.0) for i in range(1,self.hidden_layers)] \n",
    "        self.Weights[-1]  =  np.random.randn(self.nodes[self.hidden_layers-1] , self.k)/ np.sqrt(self.D/2.0)  \n",
    "        \n",
    "        # Initialize Bias\n",
    "        self.b = np.empty(self.hidden_layers+1,dtype = object)           # list of network biases\n",
    "        self.b[0:-1] = [np.zeros((1,self.nodes[i])) for i in range(self.hidden_layers)]   # [1 X li_nodes]\n",
    "        self.b[-1] = np.zeros((1,self.k))                                            # [1 X output_nodes]\n",
    "       \n",
    "        # Initialize layers activations\n",
    "        self.h = np.empty(self.hidden_layers, dtype=object)           # list of hidden layers activations\n",
    "        self.out = np.zeros((self.k,1))                               # output scores [k X 1]\n",
    "        \n",
    "          \n",
    "        self.mog = 0                         # Initialize momentum and accumalation values to zero\n",
    "        self.ACCg = 0\n",
    "        \n",
    "        self.mob = 0\n",
    "        self.ACCb = 0\n",
    "        \n",
    "        #print(self.Weights)\n",
    "        #print(self.b)\n",
    "        #print(self.out)\n",
    "        #print(self.h)\n",
    "    \n",
    "    def forwardP(self,x , y):\n",
    " \n",
    "        f = self.__activ_func()                            \n",
    "        self.h[0] = f(np.dot(x, self.Weights[0])+ self.b[0])          # [1 X l0_nodes]\n",
    "        self.h[1:] = [ f(np.dot(self.h[i-1], self.Weights[i])+ self.b[i]) for i in range(1,self.hidden_layers)]\n",
    "        self.out = np.dot(self.h[-1], self.Weights[-1])+ self.b[-1] \n",
    "        \n",
    "        #print(\"acitvation\\n\",self.h)\n",
    "        #print(\"output\\n\", self.out)\n",
    "        return self.out\n",
    "    \n",
    "    def forwardPtest(self, x,y, Weights, b):\n",
    "        f = self.__activ_func()                            \n",
    "        self.h[0] = f(np.dot(x, Weights[0])+ b[0])          # [1 X l0_nodes]\n",
    "        self.h[1:] = [ f(np.dot(self.h[i-1], Weights[i])+ b[i]) for i in range(1,self.hidden_layers)]\n",
    "        self.out = np.dot(self.h[-1], Weights[-1])+ b[-1]      \n",
    "        return self.out\n",
    "    \n",
    "    \n",
    "    # Computes cross entropy loss\n",
    "    def loss(self , output, correct_labels):\n",
    "        num_points = output.shape[0]\n",
    "        exp_scores = np.exp(output)            # apply softmax function\n",
    "        probs = exp_scores/ np.sum(exp_scores, axis = 1, keepdims = True)\n",
    "    \n",
    "        NLL = -np.log(probs[range(num_points) ,correct_labels])   # negative log likelihood of the correct class probability\n",
    "        data_loss = np.sum(NLL)/num_points\n",
    "       \n",
    "        # L2 Regularization\n",
    "        Wsqr = self.Weights * self.Weights  \n",
    "        wreg_loss = [np.sum(Wsqr[i]) for i in range(Wsqr.shape[0])]   # sum all the squared elements of W\n",
    "        reg_loss  =  0.5*self.reg *np.sum(wreg_loss)                  # multiply by the regularization paramater\n",
    "        \n",
    "        return (reg_loss + data_loss) , probs\n",
    "        \n",
    "    def backwardP(self, probs,Xtr_batch, Ytr_batch):\n",
    "        dw = np.empty(self.hidden_layers+1, dtype = object)              # partial derivative with respect to Weights \n",
    "        dh = np.empty(self.hidden_layers, dtype = object)                # error of hidden layr h\n",
    "        db = np.empty(self.hidden_layers+1, dtype = object)              # partial derviative with respect to the bias\n",
    "        \n",
    "        num_points = self.out.shape[0]   \n",
    "        \n",
    "        dscores = probs                                          # output error delta of the last layer\n",
    "        dscores[range(num_points), Ytr_batch] -= 1               # correct class probability - target(1)\n",
    "        dscores = dscores / num_points                           # average the gradient of the batch\n",
    "        \n",
    "        db[-1] = np.sum(dscores, axis = 0, keepdims = True)      # Bias partial derivative  of the last hidden layer\n",
    "        \n",
    "        # backpropagate the gradient to the weights\n",
    "        # last layer weights\n",
    "        dw[-1] = np.dot(np.transpose(self.h[-1]), dscores)\n",
    "        \n",
    "        # backpropagate to the hidden layers\n",
    "        dh[-1] = np.dot(dscores, np.transpose(self.Weights[-1]))\n",
    "        df=self.__dactiv_func()\n",
    "        dh[-1] = dh[-1] * df(self.h[-1])                            # element wise multiplication\n",
    "        \n",
    "        db[self.hidden_layers-1] = np.sum(dh[-1], axis=0, keepdims = True)\n",
    "        \n",
    "        for i in range(self.hidden_layers-2, -1, -1):\n",
    "            dh[i] = np.dot(dh[i+1], np.transpose(self.Weights[i+1]))   # hidden error\n",
    "            dh[i] = dh[i] * df(self.h[i])                          # hidden error multiplied by partial derivative of activation h\n",
    "            db[i] = np.sum(dh[i], axis=0, keepdims= True)\n",
    "\n",
    "        dw[0] = np.dot(np.transpose(Xtr_batch) ,dh[0])\n",
    "                \n",
    "        for i in range(1,self.hidden_layers):\n",
    "            dw[i] = np.dot(np.transpose(self.h[i-1]), dh[i]) \n",
    "            \n",
    "        # Then add regularization contribution to the deltas W\n",
    "        for i in range(self.hidden_layers+1):\n",
    "            dw[i] = dw[i] +  self.reg * self.Weights[i]\n",
    "        \n",
    "       # print(\"dw\\n\", dw)\n",
    "       # print(\"dh\\n\", dh)\n",
    "       # print(\"db\\n\", db)\n",
    "        \n",
    "        return dw,db\n",
    "       \n",
    "        \n",
    "    def minibatch(self,Xtr,Ytr, size):\n",
    "        s = np.random.permutation(Xtr.shape[0])\n",
    "        Xtr_shuffled = Xtr[s]\n",
    "        Ytr_shuffled = Ytr[s]\n",
    "        return Xtr_shuffled[:size,], Ytr_shuffled[:size,]\n",
    "    \n",
    "    def updateWeights(self,dw,db):\n",
    "        # Parameter update Adam\n",
    "        beta1 = 0.9\n",
    "        beta2 = 0.99\n",
    "        # Momentum update\n",
    "        self.mog = self.mog* beta1 + (1-beta1) * dw\n",
    "        self.ACCg= beta2 * self.ACCg+ (1-beta2) * dw * dw\n",
    "        self.Weights +=  -self.alpha * self.mog/ ( (self.ACCg*0.5) + 1*np.exp(-7))\n",
    "        \n",
    "        self.mob = self.mob * beta1 + (1-beta1) * db\n",
    "        self.ACCb = beta2 * self.ACCb + (1-beta2) * db * db\n",
    "        self.b += -self.alpha * self.mob/ ( (self.ACCb * 0.5) + 1 * np.exp(-7))\n",
    "         \n",
    "    def train(self, Xtr, Ytr, Xval, Yval , alpha , reg, num_epochs, activation_func, batch_size):\n",
    "        \n",
    "        self.InitWeights()                       # randomly initialize weights\n",
    "        \n",
    "        self.alpha = alpha                       # learning rate\n",
    "        self.activation_func = activation_func   # activation function\n",
    "        self.reg = reg                           # Regularization Parameter\n",
    "        \n",
    "        tr_acc  = []\n",
    "        val_acc = []\n",
    "        \n",
    "        loss_hist = []\n",
    "        loss_avg = []\n",
    "        \n",
    "        train_loss = []\n",
    "        valid_loss = []\n",
    "        \n",
    "        m = len(Ytr)               # Number of training examples \n",
    "        Weights_hist = np.empty(num_epochs , dtype = object)\n",
    "        bias_hist = np.empty(num_epochs, dtype = object)\n",
    "        # gradient descent loop\n",
    "        for i in range(num_epochs):\n",
    "            s = np.random.permutation(Xtr.shape[0])\n",
    "            Xtr_shuffled = Xtr[s]\n",
    "            Ytr_shuffled = Ytr[s]\n",
    "            \n",
    "            loss = []\n",
    "            train_accs = []\n",
    "            for k in range(0,m,batch_size): \n",
    "                Xtr_batch = Xtr_shuffled[k: k + batch_size] \n",
    "                Ytr_batch = Ytr_shuffled[k: k + batch_size]   \n",
    "            \n",
    "                scores = self.forwardP(Xtr_batch, Ytr_batch)                   # forward propagate the training data\n",
    "                batchloss , probs = self.loss(scores, Ytr_batch)               # calculate the cross entropy loss\n",
    "                loss.append(batchloss)\n",
    "                \n",
    "                loss_hist.append(batchloss)\n",
    "                \n",
    "                dw, db = self.backwardP(probs,Xtr_batch, Ytr_batch)            # backpropagate to calculate partial derivative\n",
    "                self.updateWeights(dw,db)                                      # update Weight paramters\n",
    "                \n",
    "                predicted_class = np.argmax(scores, axis = 1)                \n",
    "                train_acc = np.mean(Ytr_batch == predicted_class)\n",
    "                train_accs.append(train_acc)                \n",
    "           \n",
    "            #validation set accuracy\n",
    "            val_scores  = self.forwardP(Xval, Yval)\n",
    "            val_predicted_class = np.argmax(val_scores ,axis = 1 )\n",
    "            valid_acc = np.mean(val_predicted_class == Yval)\n",
    "            val_acc.append(valid_acc)\n",
    "            validloss , probs = self.loss(val_scores, Yval)               # calculate the cross entropy loss\n",
    "            valid_loss.append(validloss)\n",
    "        \n",
    "            \n",
    "            avg_loss = np.mean(loss)            # average loss across all the batches\n",
    "            train_loss.append(avg_loss)\n",
    "            \n",
    "            avg_train_acc = np.mean(train_accs)\n",
    "            tr_acc.append(avg_train_acc)\n",
    "            \n",
    "            loss_avg.append(avg_loss)\n",
    "            print(\"Epoch %d: loss %f , tr_acc %f , val_acc %f , lr %e, reg %e\" %(i, avg_loss , avg_train_acc ,valid_acc, self.alpha, self.reg))\n",
    "            \n",
    "            Weights_hist[i] = self.Weights\n",
    "            bias_hist[i] = self.b\n",
    "                        \n",
    "        return tr_acc, val_acc , loss_hist ,  train_loss,valid_loss,Weights_hist, bias_hist\n",
    "    \n",
    "    def __activ_func(self):\n",
    "        switcher= {\n",
    "             0 : lambda x: np.maximum(0,x),             # RelU \n",
    "             1 : lambda x: np.maximum(0.01*x, x),       # Leaky Relu\n",
    "             2 : lambda x: np.tanh(x),                  # tanh\n",
    "             3 : lambda x: 1.0/ (1+np.exp(-x))          # sigmoid\n",
    "        }\n",
    "        return(switcher.get(self.activation_func,\"invalid\"))\n",
    "    \n",
    "    def __dactiv_func(self):\n",
    "        sigm = lambda x: 1.0/ (1+np.exp(-x))\n",
    "        switcher= {\n",
    "             0 : lambda x: self.__dReLU(x) ,\n",
    "             1 : lambda x: self.__dleakyReLU(x),\n",
    "             2 : lambda x: 1-tanh(x)**2,\n",
    "             3 : lambda x: x*(1-x)\n",
    "        }\n",
    "        return(switcher.get(self.activation_func,\"invalid\"))\n",
    "    \n",
    "    def __dReLU(self,x):\n",
    "        dx = np.ones(x.shape)\n",
    "        dx[x<=0] = 0\n",
    "        return dx\n",
    "    \n",
    "    def __dleakyReLU(self,x):\n",
    "        x[x<=0.01*x] = 0.01\n",
    "        x[x>0.01*x]  = 1\n",
    "        \n",
    "    def deadNeurons(self):\n",
    "        count = 0\n",
    "        for i in range(self.hidden_layers):\n",
    "            count = count + (np.sum(self.h[i] == 0))\n",
    "        return count"
   ]
  },
  {
   "cell_type": "code",
   "execution_count": null,
   "metadata": {},
   "outputs": [],
   "source": [
    "nn = NeuralNetwork(3072,20,2,[3072,100])              # Specify Network Archietecure "
   ]
  },
  {
   "cell_type": "code",
   "execution_count": 276,
   "metadata": {},
   "outputs": [
    {
     "name": "stderr",
     "output_type": "stream",
     "text": [
      "/usr/local/lib/python2.7/dist-packages/ipykernel/__main__.py:57: RuntimeWarning: overflow encountered in exp\n",
      "/usr/local/lib/python2.7/dist-packages/ipykernel/__main__.py:58: RuntimeWarning: invalid value encountered in divide\n",
      "/usr/local/lib/python2.7/dist-packages/ipykernel/__main__.py:60: RuntimeWarning: divide by zero encountered in log\n",
      "/usr/local/lib/python2.7/dist-packages/ipykernel/__main__.py:232: RuntimeWarning: invalid value encountered in less_equal\n"
     ]
    },
    {
     "name": "stdout",
     "output_type": "stream",
     "text": [
      "Epoch 0: loss nan , tr_acc 0.050349 , val_acc 0.050800 , lr 8.000000e-02, reg 1.000000e-10\n",
      "Epoch 1: loss nan , tr_acc 0.049905 , val_acc 0.050800 , lr 8.000000e-02, reg 1.000000e-10\n",
      "Epoch 2: loss nan , tr_acc 0.049911 , val_acc 0.050800 , lr 8.000000e-02, reg 1.000000e-10\n"
     ]
    },
    {
     "ename": "KeyboardInterrupt",
     "evalue": "",
     "output_type": "error",
     "traceback": [
      "\u001b[0;31m---------------------------------------------------------------------------\u001b[0m",
      "\u001b[0;31mKeyboardInterrupt\u001b[0m                         Traceback (most recent call last)",
      "\u001b[0;32m<ipython-input-276-4c9768f1bb2d>\u001b[0m in \u001b[0;36m<module>\u001b[0;34m()\u001b[0m\n\u001b[1;32m      3\u001b[0m \u001b[0malpha_min\u001b[0m \u001b[0;34m=\u001b[0m \u001b[0;36m10\u001b[0m\u001b[0;34m**\u001b[0m\u001b[0;34m(\u001b[0m\u001b[0;34m-\u001b[0m\u001b[0;36m10\u001b[0m\u001b[0;34m)\u001b[0m                     \u001b[0;31m# Loss barely changes\u001b[0m\u001b[0;34m\u001b[0m\u001b[0m\n\u001b[1;32m      4\u001b[0m \u001b[0malpha_max\u001b[0m \u001b[0;34m=\u001b[0m \u001b[0;36m10\u001b[0m\u001b[0;34m**\u001b[0m\u001b[0;34m(\u001b[0m\u001b[0;34m-\u001b[0m\u001b[0;36m2\u001b[0m\u001b[0;34m)\u001b[0m                      \u001b[0;31m# Loss explodes\u001b[0m\u001b[0;34m\u001b[0m\u001b[0m\n\u001b[0;32m----> 5\u001b[0;31m \u001b[0mtrain_acc\u001b[0m \u001b[0;34m,\u001b[0m \u001b[0mvalid_acc\u001b[0m\u001b[0;34m,\u001b[0m \u001b[0mloss_hist\u001b[0m\u001b[0;34m,\u001b[0m \u001b[0mtrain_loss\u001b[0m\u001b[0;34m,\u001b[0m \u001b[0mvalid_loss\u001b[0m \u001b[0;34m=\u001b[0m \u001b[0mnn\u001b[0m\u001b[0;34m.\u001b[0m\u001b[0mtrain\u001b[0m\u001b[0;34m(\u001b[0m\u001b[0mXtr\u001b[0m\u001b[0;34m,\u001b[0m\u001b[0mYtr\u001b[0m\u001b[0;34m,\u001b[0m \u001b[0mXval\u001b[0m\u001b[0;34m,\u001b[0m \u001b[0mYval\u001b[0m\u001b[0;34m,\u001b[0m\u001b[0;36m10\u001b[0m\u001b[0;34m**\u001b[0m\u001b[0;34m(\u001b[0m\u001b[0;34m-\u001b[0m\u001b[0;36m2\u001b[0m\u001b[0;34m)\u001b[0m\u001b[0;34m*\u001b[0m\u001b[0;36m8\u001b[0m\u001b[0;34m,\u001b[0m\u001b[0mreg\u001b[0m\u001b[0;34m,\u001b[0m\u001b[0;36m10\u001b[0m\u001b[0;34m,\u001b[0m\u001b[0;36m0\u001b[0m\u001b[0;34m,\u001b[0m\u001b[0;36m256\u001b[0m\u001b[0;34m)\u001b[0m   \u001b[0;31m# alpha , reg , num_epochs , activ_func , batch_size\u001b[0m\u001b[0;34m\u001b[0m\u001b[0m\n\u001b[0m\u001b[1;32m      6\u001b[0m \u001b[0;31m# alpha range [e^(-2.1),e^(-11)]\u001b[0m\u001b[0;34m\u001b[0m\u001b[0;34m\u001b[0m\u001b[0m\n",
      "\u001b[0;32m<ipython-input-267-6dca223ff6c9>\u001b[0m in \u001b[0;36mtrain\u001b[0;34m(self, Xtr, Ytr, Xval, Yval, alpha, reg, num_epochs, activation_func, batch_size)\u001b[0m\n\u001b[1;32m    170\u001b[0m \u001b[0;34m\u001b[0m\u001b[0m\n\u001b[1;32m    171\u001b[0m                 \u001b[0mdw\u001b[0m\u001b[0;34m,\u001b[0m \u001b[0mdb\u001b[0m \u001b[0;34m=\u001b[0m \u001b[0mself\u001b[0m\u001b[0;34m.\u001b[0m\u001b[0mbackwardP\u001b[0m\u001b[0;34m(\u001b[0m\u001b[0mprobs\u001b[0m\u001b[0;34m,\u001b[0m\u001b[0mXtr_batch\u001b[0m\u001b[0;34m,\u001b[0m \u001b[0mYtr_batch\u001b[0m\u001b[0;34m)\u001b[0m            \u001b[0;31m# backpropagate to calculate partial derivative\u001b[0m\u001b[0;34m\u001b[0m\u001b[0m\n\u001b[0;32m--> 172\u001b[0;31m                 \u001b[0mself\u001b[0m\u001b[0;34m.\u001b[0m\u001b[0mupdateWeights\u001b[0m\u001b[0;34m(\u001b[0m\u001b[0mdw\u001b[0m\u001b[0;34m,\u001b[0m\u001b[0mdb\u001b[0m\u001b[0;34m)\u001b[0m                                      \u001b[0;31m# update Weight paramters\u001b[0m\u001b[0;34m\u001b[0m\u001b[0m\n\u001b[0m\u001b[1;32m    173\u001b[0m \u001b[0;34m\u001b[0m\u001b[0m\n\u001b[1;32m    174\u001b[0m                 \u001b[0mpredicted_class\u001b[0m \u001b[0;34m=\u001b[0m \u001b[0mnp\u001b[0m\u001b[0;34m.\u001b[0m\u001b[0margmax\u001b[0m\u001b[0;34m(\u001b[0m\u001b[0mscores\u001b[0m\u001b[0;34m,\u001b[0m \u001b[0maxis\u001b[0m \u001b[0;34m=\u001b[0m \u001b[0;36m1\u001b[0m\u001b[0;34m)\u001b[0m\u001b[0;34m\u001b[0m\u001b[0m\n",
      "\u001b[0;32m<ipython-input-267-6dca223ff6c9>\u001b[0m in \u001b[0;36mupdateWeights\u001b[0;34m(self, dw, db)\u001b[0m\n\u001b[1;32m    126\u001b[0m         \u001b[0mself\u001b[0m\u001b[0;34m.\u001b[0m\u001b[0mmog\u001b[0m \u001b[0;34m=\u001b[0m \u001b[0mself\u001b[0m\u001b[0;34m.\u001b[0m\u001b[0mmog\u001b[0m\u001b[0;34m*\u001b[0m \u001b[0mbeta1\u001b[0m \u001b[0;34m+\u001b[0m \u001b[0;34m(\u001b[0m\u001b[0;36m1\u001b[0m\u001b[0;34m-\u001b[0m\u001b[0mbeta1\u001b[0m\u001b[0;34m)\u001b[0m \u001b[0;34m*\u001b[0m \u001b[0mdw\u001b[0m\u001b[0;34m\u001b[0m\u001b[0m\n\u001b[1;32m    127\u001b[0m         \u001b[0mself\u001b[0m\u001b[0;34m.\u001b[0m\u001b[0mACCg\u001b[0m\u001b[0;34m=\u001b[0m \u001b[0mbeta2\u001b[0m \u001b[0;34m*\u001b[0m \u001b[0mself\u001b[0m\u001b[0;34m.\u001b[0m\u001b[0mACCg\u001b[0m\u001b[0;34m+\u001b[0m \u001b[0;34m(\u001b[0m\u001b[0;36m1\u001b[0m\u001b[0;34m-\u001b[0m\u001b[0mbeta2\u001b[0m\u001b[0;34m)\u001b[0m \u001b[0;34m*\u001b[0m \u001b[0mdw\u001b[0m \u001b[0;34m*\u001b[0m \u001b[0mdw\u001b[0m\u001b[0;34m\u001b[0m\u001b[0m\n\u001b[0;32m--> 128\u001b[0;31m         \u001b[0mself\u001b[0m\u001b[0;34m.\u001b[0m\u001b[0mWeights\u001b[0m \u001b[0;34m+=\u001b[0m  \u001b[0;34m-\u001b[0m\u001b[0mself\u001b[0m\u001b[0;34m.\u001b[0m\u001b[0malpha\u001b[0m \u001b[0;34m*\u001b[0m \u001b[0mself\u001b[0m\u001b[0;34m.\u001b[0m\u001b[0mmog\u001b[0m\u001b[0;34m/\u001b[0m \u001b[0;34m(\u001b[0m \u001b[0;34m(\u001b[0m\u001b[0mself\u001b[0m\u001b[0;34m.\u001b[0m\u001b[0mACCg\u001b[0m\u001b[0;34m*\u001b[0m\u001b[0;36m0.5\u001b[0m\u001b[0;34m)\u001b[0m \u001b[0;34m+\u001b[0m \u001b[0;36m1\u001b[0m\u001b[0;34m*\u001b[0m\u001b[0mnp\u001b[0m\u001b[0;34m.\u001b[0m\u001b[0mexp\u001b[0m\u001b[0;34m(\u001b[0m\u001b[0;34m-\u001b[0m\u001b[0;36m7\u001b[0m\u001b[0;34m)\u001b[0m\u001b[0;34m)\u001b[0m\u001b[0;34m\u001b[0m\u001b[0m\n\u001b[0m\u001b[1;32m    129\u001b[0m \u001b[0;34m\u001b[0m\u001b[0m\n\u001b[1;32m    130\u001b[0m         \u001b[0mself\u001b[0m\u001b[0;34m.\u001b[0m\u001b[0mmob\u001b[0m \u001b[0;34m=\u001b[0m \u001b[0mself\u001b[0m\u001b[0;34m.\u001b[0m\u001b[0mmob\u001b[0m \u001b[0;34m*\u001b[0m \u001b[0mbeta1\u001b[0m \u001b[0;34m+\u001b[0m \u001b[0;34m(\u001b[0m\u001b[0;36m1\u001b[0m\u001b[0;34m-\u001b[0m\u001b[0mbeta1\u001b[0m\u001b[0;34m)\u001b[0m \u001b[0;34m*\u001b[0m \u001b[0mdb\u001b[0m\u001b[0;34m\u001b[0m\u001b[0m\n",
      "\u001b[0;31mKeyboardInterrupt\u001b[0m: "
     ]
    }
   ],
   "source": [
    "\n",
    "# Find Min and Max range of alpha\n",
    "reg    = 0.0000000001                     # very small regularization\n",
    "alpha_min = 10**(-10)                     # Loss barely changes\n",
    "alpha_max = 10**(-2)*8                    # Loss explodes\n",
    "train_acc , valid_acc, loss_hist, train_loss, valid_loss = nn.train(Xtr,Ytr, Xval, Yval,10**(-2)*8,reg,10,0,256)   # alpha , reg , num_epochs , activ_func , batch_size\n",
    "# alpha range [10**(-10), 10**(-2)*8]"
   ]
  },
  {
   "cell_type": "code",
   "execution_count": 295,
   "metadata": {},
   "outputs": [
    {
     "name": "stdout",
     "output_type": "stream",
     "text": [
      "iteration 0:  val_acc 0.363200 , lr 5.365764e-04 , reg 1.010533e-04\n",
      "iteration 1:  val_acc 0.349800 , lr 6.132755e-04 , reg 5.730617e-04\n",
      "iteration 2:  val_acc 0.373600 , lr 4.731296e-04 , reg 3.152739e-04\n",
      "iteration 3:  val_acc 0.358600 , lr 2.679700e-04 , reg 7.807264e-04\n",
      "iteration 4:  val_acc 0.363400 , lr 5.237534e-04 , reg 1.551368e-04\n",
      "iteration 5:  val_acc 0.346000 , lr 1.852711e-04 , reg 4.189855e-03\n",
      "iteration 6:  val_acc 0.355400 , lr 5.690456e-04 , reg 5.026242e-05\n",
      "iteration 7:  val_acc 0.345200 , lr 1.319365e-04 , reg 6.950059e-05\n",
      "iteration 8:  val_acc 0.348200 , lr 2.052078e-04 , reg 2.397977e-03\n",
      "iteration 9:  val_acc 0.365000 , lr 1.999290e-04 , reg 4.115074e-04\n",
      "iteration 10:  val_acc 0.341600 , lr 2.890525e-04 , reg 3.982167e-03\n",
      "iteration 11:  val_acc 0.363800 , lr 1.789513e-04 , reg 2.196567e-03\n",
      "iteration 12:  val_acc 0.367000 , lr 5.737653e-04 , reg 4.902973e-05\n",
      "iteration 13:  val_acc 0.359800 , lr 1.814004e-04 , reg 6.720485e-04\n",
      "iteration 14:  val_acc 0.358800 , lr 1.677307e-04 , reg 1.451842e-04\n",
      "iteration 15:  val_acc 0.344400 , lr 1.176832e-04 , reg 1.177809e-03\n",
      "iteration 16:  val_acc 0.364000 , lr 2.331776e-04 , reg 1.436940e-05\n",
      "iteration 17:  val_acc 0.366800 , lr 2.682083e-04 , reg 5.435847e-05\n",
      "iteration 18:  val_acc 0.333400 , lr 1.245060e-04 , reg 1.845803e-03\n",
      "iteration 19:  val_acc 0.364600 , lr 4.286091e-04 , reg 1.317220e-05\n",
      "iteration 20:  val_acc 0.366200 , lr 3.311609e-04 , reg 1.193097e-05\n",
      "iteration 21:  val_acc 0.362800 , lr 2.003882e-04 , reg 5.227793e-04\n",
      "iteration 22:  val_acc 0.353400 , lr 4.762184e-04 , reg 6.681145e-04\n",
      "iteration 23:  val_acc 0.342200 , lr 2.056587e-04 , reg 3.373269e-03\n",
      "iteration 24:  val_acc 0.329200 , lr 5.228645e-04 , reg 4.901859e-03\n",
      "iteration 25:  val_acc 0.367400 , lr 2.634194e-04 , reg 2.290894e-04\n",
      "iteration 26:  val_acc 0.339600 , lr 1.078364e-04 , reg 2.172731e-05\n",
      "iteration 27:  val_acc 0.339800 , lr 1.064912e-04 , reg 1.562193e-05\n",
      "iteration 28:  val_acc 0.375000 , lr 6.721996e-04 , reg 1.797639e-04\n",
      "iteration 29:  val_acc 0.350400 , lr 8.890425e-04 , reg 6.803078e-05\n",
      "iteration 30:  val_acc 0.344000 , lr 7.405123e-04 , reg 3.376073e-03\n",
      "iteration 31:  val_acc 0.349000 , lr 5.266335e-04 , reg 3.037637e-03\n",
      "iteration 32:  val_acc 0.342800 , lr 1.177141e-04 , reg 1.174190e-03\n",
      "iteration 33:  val_acc 0.355800 , lr 1.607297e-04 , reg 2.805854e-04\n",
      "iteration 34:  val_acc 0.353800 , lr 8.295461e-04 , reg 1.823398e-03\n",
      "iteration 35:  val_acc 0.370800 , lr 3.709931e-04 , reg 1.459414e-04\n",
      "iteration 36:  val_acc 0.365200 , lr 4.148737e-04 , reg 2.401058e-05\n",
      "iteration 37:  val_acc 0.356400 , lr 2.619773e-04 , reg 3.027889e-05\n",
      "iteration 38:  val_acc 0.360000 , lr 2.276604e-04 , reg 3.308864e-04\n",
      "iteration 39:  val_acc 0.321600 , lr 5.903225e-04 , reg 5.982746e-03\n",
      "iteration 40:  val_acc 0.314400 , lr 3.200434e-04 , reg 8.207559e-03\n",
      "iteration 41:  val_acc 0.365800 , lr 5.283635e-04 , reg 7.003555e-04\n",
      "iteration 42:  val_acc 0.365800 , lr 3.967248e-04 , reg 6.718997e-04\n",
      "iteration 43:  val_acc 0.364000 , lr 3.876595e-04 , reg 1.810480e-05\n",
      "iteration 44:  val_acc 0.337800 , lr 1.119705e-04 , reg 1.247179e-03\n",
      "iteration 45:  val_acc 0.333000 , lr 4.311637e-04 , reg 5.358382e-03\n",
      "iteration 46:  val_acc 0.363600 , lr 2.904707e-04 , reg 4.532105e-05\n",
      "iteration 47:  val_acc 0.344800 , lr 1.015577e-04 , reg 3.955204e-04\n",
      "iteration 48:  val_acc 0.355800 , lr 4.155046e-04 , reg 2.158640e-05\n",
      "iteration 49:  val_acc 0.368800 , lr 4.436010e-04 , reg 6.133072e-04\n",
      "iteration 50:  val_acc 0.324800 , lr 1.870958e-04 , reg 6.664799e-03\n",
      "iteration 51:  val_acc 0.360800 , lr 1.577329e-04 , reg 2.498369e-05\n",
      "iteration 52:  val_acc 0.355800 , lr 3.733849e-04 , reg 4.507864e-04\n",
      "iteration 53:  val_acc 0.334600 , lr 1.042296e-04 , reg 6.469054e-04\n",
      "iteration 54:  val_acc 0.359600 , lr 3.477051e-04 , reg 1.279504e-03\n",
      "iteration 55:  val_acc 0.383400 , lr 3.268817e-04 , reg 4.635987e-05\n",
      "iteration 56:  val_acc 0.356000 , lr 1.547912e-04 , reg 2.417375e-04\n",
      "iteration 57:  val_acc 0.343600 , lr 1.538062e-04 , reg 2.317567e-03\n",
      "iteration 58:  val_acc 0.354000 , lr 1.920499e-04 , reg 1.237830e-03\n",
      "iteration 59:  val_acc 0.364200 , lr 4.131551e-04 , reg 3.605590e-05\n",
      "iteration 60:  val_acc 0.369800 , lr 4.759340e-04 , reg 6.613195e-04\n",
      "iteration 61:  val_acc 0.367000 , lr 4.328397e-04 , reg 6.277815e-05\n",
      "iteration 62:  val_acc 0.364400 , lr 3.314935e-04 , reg 9.595840e-04\n",
      "iteration 63:  val_acc 0.370200 , lr 2.341366e-04 , reg 8.308545e-05\n",
      "iteration 64:  val_acc 0.367400 , lr 3.154784e-04 , reg 2.315520e-03\n",
      "iteration 65:  val_acc 0.354000 , lr 8.220841e-04 , reg 2.095093e-05\n",
      "iteration 66:  val_acc 0.352800 , lr 1.351417e-04 , reg 2.202581e-05\n",
      "iteration 67:  val_acc 0.338600 , lr 5.521431e-04 , reg 3.389614e-03\n",
      "iteration 68:  val_acc 0.354200 , lr 2.252154e-04 , reg 9.396396e-05\n",
      "iteration 69:  val_acc 0.359200 , lr 1.925046e-04 , reg 1.114238e-04\n",
      "iteration 70:  val_acc 0.346200 , lr 1.233991e-04 , reg 3.798622e-05\n",
      "iteration 71:  val_acc 0.366000 , lr 7.272097e-04 , reg 4.658154e-04\n",
      "iteration 72:  val_acc 0.334400 , lr 1.105035e-04 , reg 1.498735e-04\n",
      "iteration 73:  val_acc 0.286400 , lr 5.492891e-04 , reg 9.524231e-03\n",
      "iteration 74:  val_acc 0.354600 , lr 7.567777e-04 , reg 4.065913e-05\n",
      "iteration 75:  val_acc 0.334600 , lr 1.196105e-04 , reg 2.805015e-05\n",
      "iteration 76:  val_acc 0.351400 , lr 7.315686e-04 , reg 1.564994e-03\n",
      "iteration 77:  val_acc 0.344400 , lr 9.281981e-04 , reg 3.519028e-05\n",
      "iteration 78:  val_acc 0.349200 , lr 1.317000e-04 , reg 1.034941e-03\n",
      "iteration 79:  val_acc 0.354000 , lr 1.549918e-04 , reg 5.607484e-05\n",
      "iteration 80:  val_acc 0.308000 , lr 3.497180e-04 , reg 8.131405e-03\n",
      "iteration 81:  val_acc 0.348400 , lr 8.527937e-04 , reg 3.435637e-05\n",
      "iteration 82:  val_acc 0.357600 , lr 3.264466e-04 , reg 2.979844e-05\n",
      "iteration 83:  val_acc 0.348400 , lr 3.864998e-04 , reg 3.430599e-03\n",
      "iteration 84:  val_acc 0.357000 , lr 5.952144e-04 , reg 3.607479e-04\n",
      "iteration 85:  val_acc 0.355400 , lr 1.998095e-04 , reg 1.017917e-03\n",
      "iteration 86:  val_acc 0.364200 , lr 5.588195e-04 , reg 2.937534e-04\n",
      "iteration 87:  val_acc 0.338400 , lr 1.251410e-04 , reg 2.668902e-03\n",
      "iteration 88:  val_acc 0.359000 , lr 2.027653e-04 , reg 2.408045e-05\n",
      "iteration 89:  val_acc 0.319600 , lr 7.651512e-04 , reg 5.086383e-03\n",
      "iteration 90:  val_acc 0.338200 , lr 1.432688e-04 , reg 4.183997e-03\n",
      "iteration 91:  val_acc 0.359200 , lr 5.894584e-04 , reg 1.741749e-04\n",
      "iteration 92:  val_acc 0.365800 , lr 6.617585e-04 , reg 7.557394e-05\n",
      "iteration 93:  val_acc 0.360600 , lr 6.755303e-04 , reg 5.555274e-05\n",
      "iteration 94:  val_acc 0.363000 , lr 3.704648e-04 , reg 8.134346e-04\n",
      "iteration 95:  val_acc 0.348800 , lr 5.577397e-04 , reg 1.406465e-04\n",
      "iteration 96:  val_acc 0.347800 , lr 1.116773e-04 , reg 7.418800e-05\n",
      "iteration 97:  val_acc 0.352800 , lr 6.314629e-04 , reg 1.527697e-03\n",
      "iteration 98:  val_acc 0.345400 , lr 1.368002e-04 , reg 7.071797e-05\n",
      "iteration 99:  val_acc 0.361800 , lr 8.157752e-04 , reg 6.307501e-04\n"
     ]
    }
   ],
   "source": [
    "# Optimize hyper-paramaters alpha and regularization paramater\n",
    "# Coarse Search and fine search loap\n",
    "\n",
    "models  = np.zeros(100, dtype = float)\n",
    "alphas  = np.zeros(100, dtype = float)\n",
    "regs    = np.zeros(100, dtype = float)\n",
    "\n",
    "for i in range(100):\n",
    "    \n",
    "    reg   = 10 ** np.random.uniform(-5,-2)               # search in the log scale\n",
    "    alpha = 10 ** np.random.uniform(-3, -4)             # in the max and min rang of alpha\n",
    "    \n",
    "    train_acc , valid_acc,loss_hist,train_loss,valid_loss = nn.train(Xtr,Ytr, Xval, Yval,alpha,reg,5,0,256)   # alpha , reg , num_epochs , activ_func , batch_size\n",
    "    max_valid =    max(valid_acc)         #max(valid_acc)\n",
    "    \n",
    "    models[i] = max_valid\n",
    "    \n",
    "    alphas[i] = alpha\n",
    "    regs[i] = reg\n",
    "    \n",
    "    print(\"iteration %d:  val_acc %f , lr %e , reg %e\" %(i,max_valid, alpha, reg))\n",
    "    "
   ]
  },
  {
   "cell_type": "code",
   "execution_count": 296,
   "metadata": {},
   "outputs": [
    {
     "name": "stdout",
     "output_type": "stream",
     "text": [
      " model 0 ,val_acc 0.383400 , lr 3.268817e-04, reg 4.635987e-05\n",
      " model 1 ,val_acc 0.375000 , lr 6.721996e-04, reg 1.797639e-04\n",
      " model 2 ,val_acc 0.373600 , lr 4.731296e-04, reg 3.152739e-04\n",
      " model 3 ,val_acc 0.370800 , lr 3.709931e-04, reg 1.459414e-04\n",
      " model 4 ,val_acc 0.370200 , lr 2.341366e-04, reg 8.308545e-05\n",
      " model 5 ,val_acc 0.369800 , lr 4.759340e-04, reg 6.613195e-04\n",
      " model 6 ,val_acc 0.368800 , lr 4.436010e-04, reg 6.133072e-04\n",
      " model 7 ,val_acc 0.367400 , lr 3.154784e-04, reg 2.315520e-03\n",
      " model 8 ,val_acc 0.367400 , lr 2.634194e-04, reg 2.290894e-04\n",
      " model 9 ,val_acc 0.367000 , lr 5.737653e-04, reg 4.902973e-05\n",
      " model 10 ,val_acc 0.367000 , lr 4.328397e-04, reg 6.277815e-05\n",
      " model 11 ,val_acc 0.366800 , lr 2.682083e-04, reg 5.435847e-05\n",
      " model 12 ,val_acc 0.366200 , lr 3.311609e-04, reg 1.193097e-05\n",
      " model 13 ,val_acc 0.366000 , lr 7.272097e-04, reg 4.658154e-04\n",
      " model 14 ,val_acc 0.365800 , lr 3.967248e-04, reg 6.718997e-04\n",
      " model 15 ,val_acc 0.365800 , lr 6.617585e-04, reg 7.557394e-05\n",
      " model 16 ,val_acc 0.365800 , lr 5.283635e-04, reg 7.003555e-04\n",
      " model 17 ,val_acc 0.365200 , lr 4.148737e-04, reg 2.401058e-05\n",
      " model 18 ,val_acc 0.365000 , lr 1.999290e-04, reg 4.115074e-04\n",
      " model 19 ,val_acc 0.364600 , lr 4.286091e-04, reg 1.317220e-05\n"
     ]
    }
   ],
   "source": [
    "# find best models\n",
    "best_model = np.argsort(models)[::-1]\n",
    "\n",
    "for i in range(20):\n",
    "    print(\" model %d ,val_acc %f , lr %e, reg %e\" %(i , models[best_model[i]] , alphas[best_model[i]] , regs[best_model[i]] ))"
   ]
  },
  {
   "cell_type": "code",
   "execution_count": 347,
   "metadata": {
    "scrolled": true
   },
   "outputs": [
    {
     "name": "stdout",
     "output_type": "stream",
     "text": [
      " reg 4.635987e-05\n",
      " reg 3.268817e-04\n",
      "Epoch 0: loss 2.678835 , tr_acc 0.223106 , val_acc 0.289400 , lr 3.268817e-04, reg 4.635987e-05\n",
      "Epoch 1: loss 2.373533 , tr_acc 0.314338 , val_acc 0.317600 , lr 3.268817e-04, reg 4.635987e-05\n",
      "Epoch 2: loss 2.228658 , tr_acc 0.361258 , val_acc 0.350400 , lr 3.268817e-04, reg 4.635987e-05\n",
      "Epoch 3: loss 2.109783 , tr_acc 0.391217 , val_acc 0.358400 , lr 3.268817e-04, reg 4.635987e-05\n",
      "Epoch 4: loss 1.993349 , tr_acc 0.425167 , val_acc 0.369800 , lr 3.268817e-04, reg 4.635987e-05\n",
      "Epoch 5: loss 1.890081 , tr_acc 0.459747 , val_acc 0.363200 , lr 3.268817e-04, reg 4.635987e-05\n",
      "Epoch 6: loss 1.794382 , tr_acc 0.486589 , val_acc 0.376400 , lr 3.268817e-04, reg 4.635987e-05\n",
      "Epoch 7: loss 1.689488 , tr_acc 0.520051 , val_acc 0.373200 , lr 3.268817e-04, reg 4.635987e-05\n",
      "Epoch 8: loss 1.596503 , tr_acc 0.551795 , val_acc 0.369000 , lr 3.268817e-04, reg 4.635987e-05\n",
      "Epoch 9: loss 1.497654 , tr_acc 0.582439 , val_acc 0.369400 , lr 3.268817e-04, reg 4.635987e-05\n",
      "Epoch 10: loss 1.398379 , tr_acc 0.612298 , val_acc 0.368000 , lr 3.268817e-04, reg 4.635987e-05\n",
      "Epoch 11: loss 1.297729 , tr_acc 0.643466 , val_acc 0.374200 , lr 3.268817e-04, reg 4.635987e-05\n",
      "Epoch 12: loss 1.220966 , tr_acc 0.668742 , val_acc 0.377200 , lr 3.268817e-04, reg 4.635987e-05\n",
      "Epoch 13: loss 1.120705 , tr_acc 0.700720 , val_acc 0.380000 , lr 3.268817e-04, reg 4.635987e-05\n",
      "Epoch 14: loss 1.044344 , tr_acc 0.727410 , val_acc 0.363800 , lr 3.268817e-04, reg 4.635987e-05\n",
      "Epoch 15: loss 0.978808 , tr_acc 0.747636 , val_acc 0.382800 , lr 3.268817e-04, reg 4.635987e-05\n",
      "Epoch 16: loss 0.890254 , tr_acc 0.776302 , val_acc 0.354000 , lr 3.268817e-04, reg 4.635987e-05\n",
      "Epoch 17: loss 0.836832 , tr_acc 0.792908 , val_acc 0.364600 , lr 3.268817e-04, reg 4.635987e-05\n",
      "Epoch 18: loss 0.803769 , tr_acc 0.805092 , val_acc 0.362400 , lr 3.268817e-04, reg 4.635987e-05\n",
      "Epoch 19: loss 0.724342 , tr_acc 0.833027 , val_acc 0.366000 , lr 3.268817e-04, reg 4.635987e-05\n",
      "Epoch 20: loss 0.688625 , tr_acc 0.843955 , val_acc 0.368000 , lr 3.268817e-04, reg 4.635987e-05\n",
      "Epoch 21: loss 0.666627 , tr_acc 0.851517 , val_acc 0.369200 , lr 3.268817e-04, reg 4.635987e-05\n",
      "Epoch 22: loss 0.648643 , tr_acc 0.856417 , val_acc 0.358600 , lr 3.268817e-04, reg 4.635987e-05\n",
      "Epoch 23: loss 0.583656 , tr_acc 0.878736 , val_acc 0.370000 , lr 3.268817e-04, reg 4.635987e-05\n",
      "Epoch 24: loss 0.569970 , tr_acc 0.884299 , val_acc 0.377400 , lr 3.268817e-04, reg 4.635987e-05\n",
      "Epoch 25: loss 0.531655 , tr_acc 0.895727 , val_acc 0.370000 , lr 3.268817e-04, reg 4.635987e-05\n",
      "Epoch 26: loss 0.521068 , tr_acc 0.897683 , val_acc 0.372800 , lr 3.268817e-04, reg 4.635987e-05\n",
      "Epoch 27: loss 0.501641 , tr_acc 0.905748 , val_acc 0.377600 , lr 3.268817e-04, reg 4.635987e-05\n",
      "Epoch 28: loss 0.488906 , tr_acc 0.909804 , val_acc 0.372800 , lr 3.268817e-04, reg 4.635987e-05\n",
      "Epoch 29: loss 0.468175 , tr_acc 0.916816 , val_acc 0.366200 , lr 3.268817e-04, reg 4.635987e-05\n",
      "Epoch 30: loss 0.451387 , tr_acc 0.923344 , val_acc 0.361400 , lr 3.268817e-04, reg 4.635987e-05\n",
      "Epoch 31: loss 0.416474 , tr_acc 0.935904 , val_acc 0.369200 , lr 3.268817e-04, reg 4.635987e-05\n",
      "Epoch 32: loss 0.440537 , tr_acc 0.927409 , val_acc 0.370800 , lr 3.268817e-04, reg 4.635987e-05\n",
      "Epoch 33: loss 0.410309 , tr_acc 0.938240 , val_acc 0.370600 , lr 3.268817e-04, reg 4.635987e-05\n",
      "Epoch 34: loss 0.387055 , tr_acc 0.946503 , val_acc 0.375400 , lr 3.268817e-04, reg 4.635987e-05\n",
      "Epoch 35: loss 0.365941 , tr_acc 0.951705 , val_acc 0.372200 , lr 3.268817e-04, reg 4.635987e-05\n",
      "Epoch 36: loss 0.351247 , tr_acc 0.958041 , val_acc 0.368800 , lr 3.268817e-04, reg 4.635987e-05\n",
      "Epoch 37: loss 0.346027 , tr_acc 0.959585 , val_acc 0.369400 , lr 3.268817e-04, reg 4.635987e-05\n",
      "Epoch 38: loss 0.368118 , tr_acc 0.951969 , val_acc 0.364200 , lr 3.268817e-04, reg 4.635987e-05\n",
      "Epoch 39: loss 0.352050 , tr_acc 0.956839 , val_acc 0.377000 , lr 3.268817e-04, reg 4.635987e-05\n",
      "Epoch 40: loss 0.329792 , tr_acc 0.964930 , val_acc 0.368600 , lr 3.268817e-04, reg 4.635987e-05\n",
      "Epoch 41: loss 0.330421 , tr_acc 0.966160 , val_acc 0.372800 , lr 3.268817e-04, reg 4.635987e-05\n",
      "Epoch 42: loss 0.317931 , tr_acc 0.968922 , val_acc 0.379200 , lr 3.268817e-04, reg 4.635987e-05\n",
      "Epoch 43: loss 0.305573 , tr_acc 0.972936 , val_acc 0.375200 , lr 3.268817e-04, reg 4.635987e-05\n",
      "Epoch 44: loss 0.308673 , tr_acc 0.972011 , val_acc 0.374000 , lr 3.268817e-04, reg 4.635987e-05\n",
      "Epoch 45: loss 0.303036 , tr_acc 0.973170 , val_acc 0.368800 , lr 3.268817e-04, reg 4.635987e-05\n",
      "Epoch 46: loss 0.329881 , tr_acc 0.964673 , val_acc 0.370400 , lr 3.268817e-04, reg 4.635987e-05\n",
      "Epoch 47: loss 0.330756 , tr_acc 0.964318 , val_acc 0.368600 , lr 3.268817e-04, reg 4.635987e-05\n",
      "Epoch 48: loss 0.304282 , tr_acc 0.972805 , val_acc 0.379600 , lr 3.268817e-04, reg 4.635987e-05\n",
      "Epoch 49: loss 0.280087 , tr_acc 0.981820 , val_acc 0.378600 , lr 3.268817e-04, reg 4.635987e-05\n"
     ]
    }
   ],
   "source": [
    "# Train with model 0\n",
    "\n",
    "alpha = 3.268817 * (10**(-4))\n",
    "reg   = 4.635987 * (10**(-5))\n",
    "\n",
    "print(\" reg %e\" %(reg))\n",
    "print(\" reg %e\" %(alpha))\n",
    "\n",
    "train_acc,valid_acc,loss_hist,train_loss,valid_loss,weight_hist,b_hist= nn.train(Xtr,Ytr, Xval, Yval,alpha,reg,50,0,256)\n"
   ]
  },
  {
   "cell_type": "code",
   "execution_count": 351,
   "metadata": {},
   "outputs": [
    {
     "data": {
      "image/png": "[encoded data removed]",
      "text/plain": [
       "<matplotlib.figure.Figure at 0x7fe139c2f590>"
      ]
     },
     "metadata": {},
     "output_type": "display_data"
    }
   ],
   "source": [
    "# Monitor loss versus number of epochs\n",
    "plt.xlabel(\"Number of Iteration\")\n",
    "plt.ylabel(\"Loss\")\n",
    "x = np.arange(len(loss_hist))\n",
    "plt.plot(x, loss_hist, 'r--')\n",
    "plt.show()"
   ]
  },
  {
   "cell_type": "code",
   "execution_count": 355,
   "metadata": {},
   "outputs": [
    {
     "data": {
      "image/png": "[encoded data removed]",
      "text/plain": [
       "<matplotlib.figure.Figure at 0x7fe1351aafd0>"
      ]
     },
     "metadata": {},
     "output_type": "display_data"
    },
    {
     "name": "stdout",
     "output_type": "stream",
     "text": [
      "[2.4783631328534477, 2.3616221865511537, 2.2930251810318496, 2.2659824416056522, 2.23643469634023, 2.2573466730021856, 2.2695935256552557, 2.3100466220048146, 2.4122203639085869, 2.4284649867586148, 2.4850703138674564, 2.5661252238019978, 2.5906688090627088, 2.7254805484950069, 2.8369740258650569, 2.8460317353244564, 3.1572414597128713, 3.2002041912974293, 3.286916000830221, 3.4084363596545852, 3.5538363919419664, 3.608985202020448, 3.67821219902038, 3.7450528388332716, 3.8389898309938926, 4.0534312173964731, 4.2010223950957704, 4.1828270460849, 4.3502343172675086, 4.4005952421380634, 4.5318876620910657, 4.4592607686400427, 4.7154667722484653, 4.674860608383975, 4.8094276757507997, 4.7199432630552085, 4.8713653631784695, 5.0005906984105426, 4.9932125452442095, 4.9829682699843145, 5.0986490973980354, 5.2049468766641542, 5.111334865064328, 5.27164887630338, 5.3921679606521851, 5.3764025341194648, 5.3399569006635454, 5.3312628562300937, 5.4041103866783482, 5.4155336150564191]\n"
     ]
    }
   ],
   "source": [
    "# Monitor loss versus number of epochs\n",
    "plt.xlabel(\"Number of Epochs\")\n",
    "plt.ylabel(\"Valid Loss\")\n",
    "x = np.arange(len(valid_loss))\n",
    "plt.plot(x, valid_loss, 'r--')\n",
    "plt.show()\n",
    "print(valid_loss)"
   ]
  },
  {
   "cell_type": "code",
   "execution_count": 353,
   "metadata": {},
   "outputs": [
    {
     "data": {
      "image/png": "[encoded data removed]",
      "text/plain": [
       "<matplotlib.figure.Figure at 0x7fe139c62050>"
      ]
     },
     "metadata": {},
     "output_type": "display_data"
    }
   ],
   "source": [
    "plt.xlabel(\"Number of Epochs\")\n",
    "plt.ylabel(\"Train Loss\")\n",
    "x = np.arange(len(train_loss))\n",
    "plt.plot(x, train_loss, 'r--')\n",
    "plt.show()"
   ]
  },
  {
   "cell_type": "code",
   "execution_count": 379,
   "metadata": {},
   "outputs": [
    {
     "name": "stdout",
     "output_type": "stream",
     "text": [
      "[0.28939999999999999, 0.31759999999999999, 0.35039999999999999, 0.3584, 0.36980000000000002, 0.36320000000000002, 0.37640000000000001, 0.37319999999999998, 0.36899999999999999, 0.36940000000000001, 0.36799999999999999, 0.37419999999999998, 0.37719999999999998, 0.38, 0.36380000000000001, 0.38279999999999997, 0.35399999999999998, 0.36459999999999998, 0.3624, 0.36599999999999999, 0.36799999999999999, 0.36919999999999997, 0.35859999999999997, 0.37, 0.37740000000000001, 0.37, 0.37280000000000002, 0.37759999999999999, 0.37280000000000002, 0.36620000000000003, 0.3614, 0.36919999999999997, 0.37080000000000002, 0.37059999999999998, 0.37540000000000001, 0.37219999999999998, 0.36880000000000002, 0.36940000000000001, 0.36420000000000002, 0.377, 0.36859999999999998, 0.37280000000000002, 0.37919999999999998, 0.37519999999999998, 0.374, 0.36880000000000002, 0.37040000000000001, 0.36859999999999998, 0.37959999999999999, 0.37859999999999999]\n"
     ]
    },
    {
     "data": {
      "image/png": "[encoded data removed]",
      "text/plain": [
       "<matplotlib.figure.Figure at 0x7fe13512e3d0>"
      ]
     },
     "metadata": {},
     "output_type": "display_data"
    }
   ],
   "source": [
    "# Monitor valid accuracy versus training accuracy\n",
    "plt.xlabel(\"Number of Epochs\")\n",
    "plt.ylabel(\"Accuracy\")\n",
    "print(valid_acc)\n",
    "x = np.arange(len(valid_acc))\n",
    "plt.plot(x, valid_acc, 'r--')\n",
    "plt.plot(x, train_acc, 'o--')\n",
    "plt.show()"
   ]
  },
  {
   "cell_type": "code",
   "execution_count": 380,
   "metadata": {},
   "outputs": [
    {
     "name": "stdout",
     "output_type": "stream",
     "text": [
      "ACCR 0.370500\n"
     ]
    }
   ],
   "source": [
    "# apply testing test\n",
    "def activ_func(x):\n",
    "        switcher= {\n",
    "             0 : lambda x: np.maximum(0,x),\n",
    "             1 : lambda x: np.maximum(0.01*x, x),\n",
    "             2 : lambda x: np.tanh(x),\n",
    "             3 : lambda x: 1.0/ (1+np.exp(-x))\n",
    "        }\n",
    "        return(switcher.get(x,\"invalid\"))\n",
    "    \n",
    "def forwardPtest( x,y, Weights, b):\n",
    "    h = np.empty(2, dtype=object)           # list of hidden layers activations\n",
    "    f = activ_func(0)                            \n",
    "    h[0] = f(np.dot(x, Weights[0])+ b[0])          # [1 X l0_nodes]\n",
    "    h[1:] = [ f(np.dot(h[i-1], Weights[i])+ b[i]) for i in range(1,2)]\n",
    "    out = np.dot(h[-1], Weights[-1])+ b[-1]      \n",
    "    return out\n",
    "    \n",
    "scores = forwardPtest(Xtest, Ytest,weight_hist[13], b_hist[13])     # test with the model with the heighest accuracy\n",
    "predicted_class = np.argmax(scores, axis = 1)                \n",
    "test_acc = np.mean(Ytest == predicted_class)\n",
    "print(\"ACCR %f\" %(test_acc))"
   ]
  },
  {
   "cell_type": "code",
   "execution_count": 376,
   "metadata": {
    "collapsed": true
   },
   "outputs": [],
   "source": [
    "number_classes = 20\n",
    "def ccrn(Ypredicted, Ytest):\n",
    "    Ytest_l = Ytest.tolist()\n",
    "    class_occurence  = [ Ytest_l.count(i) for i in range(number_classes)]  \n",
    "    correct_y = np.zeros((number_classes), dtype = np.float)\n",
    "    for i in range(number_classes): \n",
    "        for j in range(len(Ytest)):\n",
    "            if ( Ytest[j] == Ypredicted[j] and Ytest[j] == i):\n",
    "                correct_y[i] = correct_y[i] + 1\n",
    "    ccrn = correct_y / class_occurence\n",
    "    return ccrn"
   ]
  },
  {
   "cell_type": "code",
   "execution_count": 378,
   "metadata": {},
   "outputs": [
    {
     "name": "stdout",
     "output_type": "stream",
     "text": [
      "class 0 ,ccrn 0.288000\n",
      "class 1 ,ccrn 0.422000\n",
      "class 2 ,ccrn 0.538000\n",
      "class 3 ,ccrn 0.432000\n",
      "class 4 ,ccrn 0.442000\n",
      "class 5 ,ccrn 0.384000\n",
      "class 6 ,ccrn 0.370000\n",
      "class 7 ,ccrn 0.400000\n",
      "class 8 ,ccrn 0.226000\n",
      "class 9 ,ccrn 0.464000\n",
      "class 10 ,ccrn 0.470000\n",
      "class 11 ,ccrn 0.274000\n",
      "class 12 ,ccrn 0.246000\n",
      "class 13 ,ccrn 0.210000\n",
      "class 14 ,ccrn 0.432000\n",
      "class 15 ,ccrn 0.226000\n",
      "class 16 ,ccrn 0.292000\n",
      "class 17 ,ccrn 0.654000\n",
      "class 18 ,ccrn 0.262000\n",
      "class 19 ,ccrn 0.378000\n"
     ]
    }
   ],
   "source": [
    "# Correct classification rate\n",
    "cc_rate = ccrn(predicted_class , Ytest)\n",
    "for i in range(len(cc_rate)):\n",
    "    print(\"class %d ,ccrn %f\" %(i ,cc_rate[i]))\n"
   ]
  },
  {
   "cell_type": "code",
   "execution_count": 348,
   "metadata": {},
   "outputs": [
    {
     "name": "stdout",
     "output_type": "stream",
     "text": [
      "Epoch 0: loss 2.969575 , tr_acc 0.216511 , val_acc 0.295600 , lr 3.268817e-04, reg 1.380000e-04\n",
      "Epoch 1: loss 2.659475 , tr_acc 0.314704 , val_acc 0.323600 , lr 3.268817e-04, reg 1.380000e-04\n",
      "Epoch 2: loss 2.510266 , tr_acc 0.357084 , val_acc 0.342000 , lr 3.268817e-04, reg 1.380000e-04\n",
      "Epoch 3: loss 2.394744 , tr_acc 0.390341 , val_acc 0.360600 , lr 3.268817e-04, reg 1.380000e-04\n",
      "Epoch 4: loss 2.273481 , tr_acc 0.426093 , val_acc 0.362400 , lr 3.268817e-04, reg 1.380000e-04\n",
      "Epoch 5: loss 2.171519 , tr_acc 0.455431 , val_acc 0.373800 , lr 3.268817e-04, reg 1.380000e-04\n",
      "Epoch 6: loss 2.077052 , tr_acc 0.482000 , val_acc 0.369400 , lr 3.268817e-04, reg 1.380000e-04\n",
      "Epoch 7: loss 1.973945 , tr_acc 0.516419 , val_acc 0.383800 , lr 3.268817e-04, reg 1.380000e-04\n",
      "Epoch 8: loss 1.885481 , tr_acc 0.541953 , val_acc 0.373600 , lr 3.268817e-04, reg 1.380000e-04\n",
      "Epoch 9: loss 1.788338 , tr_acc 0.575634 , val_acc 0.381200 , lr 3.268817e-04, reg 1.380000e-04\n",
      "Epoch 10: loss 1.687909 , tr_acc 0.605791 , val_acc 0.373400 , lr 3.268817e-04, reg 1.380000e-04\n",
      "Epoch 11: loss 1.604002 , tr_acc 0.631348 , val_acc 0.370200 , lr 3.268817e-04, reg 1.380000e-04\n",
      "Epoch 12: loss 1.505253 , tr_acc 0.666382 , val_acc 0.369200 , lr 3.268817e-04, reg 1.380000e-04\n",
      "Epoch 13: loss 1.430622 , tr_acc 0.687899 , val_acc 0.374400 , lr 3.268817e-04, reg 1.380000e-04\n",
      "Epoch 14: loss 1.338756 , tr_acc 0.721320 , val_acc 0.370200 , lr 3.268817e-04, reg 1.380000e-04\n",
      "Epoch 15: loss 1.296381 , tr_acc 0.732590 , val_acc 0.375400 , lr 3.268817e-04, reg 1.380000e-04\n",
      "Epoch 16: loss 1.211966 , tr_acc 0.760567 , val_acc 0.380800 , lr 3.268817e-04, reg 1.380000e-04\n",
      "Epoch 17: loss 1.160870 , tr_acc 0.777725 , val_acc 0.365400 , lr 3.268817e-04, reg 1.380000e-04\n",
      "Epoch 18: loss 1.116149 , tr_acc 0.792700 , val_acc 0.366000 , lr 3.268817e-04, reg 1.380000e-04\n",
      "Epoch 19: loss 1.051194 , tr_acc 0.814907 , val_acc 0.373200 , lr 3.268817e-04, reg 1.380000e-04\n",
      "Epoch 20: loss 0.989436 , tr_acc 0.835265 , val_acc 0.377600 , lr 3.268817e-04, reg 1.380000e-04\n",
      "Epoch 21: loss 0.969765 , tr_acc 0.841992 , val_acc 0.368000 , lr 3.268817e-04, reg 1.380000e-04\n",
      "Epoch 22: loss 0.936679 , tr_acc 0.854832 , val_acc 0.381400 , lr 3.268817e-04, reg 1.380000e-04\n",
      "Epoch 23: loss 0.900021 , tr_acc 0.865086 , val_acc 0.371800 , lr 3.268817e-04, reg 1.380000e-04\n",
      "Epoch 24: loss 0.852434 , tr_acc 0.880232 , val_acc 0.376200 , lr 3.268817e-04, reg 1.380000e-04\n"
     ]
    },
    {
     "data": {
      "image/png": "[encoded data removed]",
      "text/plain": [
       "<matplotlib.figure.Figure at 0x7fe17c198f90>"
      ]
     },
     "metadata": {},
     "output_type": "display_data"
    },
    {
     "name": "stdout",
     "output_type": "stream",
     "text": [
      "Epoch 0: loss 3.820253 , tr_acc 0.218462 , val_acc 0.284800 , lr 3.268817e-04, reg 4.140000e-04\n",
      "Epoch 1: loss 3.457406 , tr_acc 0.313433 , val_acc 0.321200 , lr 3.268817e-04, reg 4.140000e-04\n",
      "Epoch 2: loss 3.267915 , tr_acc 0.352881 , val_acc 0.351200 , lr 3.268817e-04, reg 4.140000e-04\n",
      "Epoch 3: loss 3.101690 , tr_acc 0.390051 , val_acc 0.364000 , lr 3.268817e-04, reg 4.140000e-04\n",
      "Epoch 4: loss 2.957579 , tr_acc 0.417767 , val_acc 0.357200 , lr 3.268817e-04, reg 4.140000e-04\n",
      "Epoch 5: loss 2.822452 , tr_acc 0.444942 , val_acc 0.364000 , lr 3.268817e-04, reg 4.140000e-04\n",
      "Epoch 6: loss 2.694988 , tr_acc 0.476831 , val_acc 0.374200 , lr 3.268817e-04, reg 4.140000e-04\n",
      "Epoch 7: loss 2.573865 , tr_acc 0.502810 , val_acc 0.375600 , lr 3.268817e-04, reg 4.140000e-04\n",
      "Epoch 8: loss 2.465085 , tr_acc 0.528612 , val_acc 0.371600 , lr 3.268817e-04, reg 4.140000e-04\n",
      "Epoch 9: loss 2.360946 , tr_acc 0.550509 , val_acc 0.374200 , lr 3.268817e-04, reg 4.140000e-04\n",
      "Epoch 10: loss 2.243495 , tr_acc 0.581359 , val_acc 0.378000 , lr 3.268817e-04, reg 4.140000e-04\n",
      "Epoch 11: loss 2.158803 , tr_acc 0.603553 , val_acc 0.379200 , lr 3.268817e-04, reg 4.140000e-04\n",
      "Epoch 12: loss 2.049223 , tr_acc 0.631718 , val_acc 0.392600 , lr 3.268817e-04, reg 4.140000e-04\n",
      "Epoch 13: loss 1.972562 , tr_acc 0.654430 , val_acc 0.382000 , lr 3.268817e-04, reg 4.140000e-04\n",
      "Epoch 14: loss 1.877182 , tr_acc 0.680083 , val_acc 0.382200 , lr 3.268817e-04, reg 4.140000e-04\n",
      "Epoch 15: loss 1.792771 , tr_acc 0.703516 , val_acc 0.384600 , lr 3.268817e-04, reg 4.140000e-04\n",
      "Epoch 16: loss 1.724048 , tr_acc 0.723061 , val_acc 0.374200 , lr 3.268817e-04, reg 4.140000e-04\n",
      "Epoch 17: loss 1.664850 , tr_acc 0.740065 , val_acc 0.367000 , lr 3.268817e-04, reg 4.140000e-04\n",
      "Epoch 18: loss 1.594678 , tr_acc 0.760472 , val_acc 0.367600 , lr 3.268817e-04, reg 4.140000e-04\n",
      "Epoch 19: loss 1.547006 , tr_acc 0.773218 , val_acc 0.387800 , lr 3.268817e-04, reg 4.140000e-04\n",
      "Epoch 20: loss 1.486911 , tr_acc 0.791347 , val_acc 0.366200 , lr 3.268817e-04, reg 4.140000e-04\n",
      "Epoch 21: loss 1.426557 , tr_acc 0.809639 , val_acc 0.375800 , lr 3.268817e-04, reg 4.140000e-04\n",
      "Epoch 22: loss 1.389525 , tr_acc 0.818922 , val_acc 0.388400 , lr 3.268817e-04, reg 4.140000e-04\n",
      "Epoch 23: loss 1.338716 , tr_acc 0.832424 , val_acc 0.385600 , lr 3.268817e-04, reg 4.140000e-04\n",
      "Epoch 24: loss 1.294236 , tr_acc 0.845999 , val_acc 0.380800 , lr 3.268817e-04, reg 4.140000e-04\n"
     ]
    },
    {
     "data": {
      "image/png": "[encoded data removed]",
      "text/plain": [
       "<matplotlib.figure.Figure at 0x7fe139baef50>"
      ]
     },
     "metadata": {},
     "output_type": "display_data"
    },
    {
     "name": "stdout",
     "output_type": "stream",
     "text": [
      "Epoch 0: loss 3.294757 , tr_acc 0.218279 , val_acc 0.292400 , lr 3.268817e-04, reg 2.420000e-04\n",
      "Epoch 1: loss 2.962425 , tr_acc 0.316878 , val_acc 0.327400 , lr 3.268817e-04, reg 2.420000e-04\n",
      "Epoch 2: loss 2.809586 , tr_acc 0.355320 , val_acc 0.336000 , lr 3.268817e-04, reg 2.420000e-04\n",
      "Epoch 3: loss 2.681835 , tr_acc 0.393377 , val_acc 0.365600 , lr 3.268817e-04, reg 2.420000e-04\n",
      "Epoch 4: loss 2.555832 , tr_acc 0.423143 , val_acc 0.368800 , lr 3.268817e-04, reg 2.420000e-04\n",
      "Epoch 5: loss 2.450204 , tr_acc 0.450581 , val_acc 0.366000 , lr 3.268817e-04, reg 2.420000e-04\n",
      "Epoch 6: loss 2.343354 , tr_acc 0.479429 , val_acc 0.369600 , lr 3.268817e-04, reg 2.420000e-04\n",
      "Epoch 7: loss 2.248091 , tr_acc 0.507013 , val_acc 0.374000 , lr 3.268817e-04, reg 2.420000e-04\n",
      "Epoch 8: loss 2.135861 , tr_acc 0.543638 , val_acc 0.383200 , lr 3.268817e-04, reg 2.420000e-04\n",
      "Epoch 9: loss 2.055307 , tr_acc 0.563099 , val_acc 0.377400 , lr 3.268817e-04, reg 2.420000e-04\n",
      "Epoch 10: loss 1.949299 , tr_acc 0.597315 , val_acc 0.370200 , lr 3.268817e-04, reg 2.420000e-04\n",
      "Epoch 11: loss 1.876151 , tr_acc 0.616998 , val_acc 0.379400 , lr 3.268817e-04, reg 2.420000e-04\n",
      "Epoch 12: loss 1.762468 , tr_acc 0.652354 , val_acc 0.367200 , lr 3.268817e-04, reg 2.420000e-04\n",
      "Epoch 13: loss 1.671058 , tr_acc 0.680590 , val_acc 0.371800 , lr 3.268817e-04, reg 2.420000e-04\n",
      "Epoch 14: loss 1.622953 , tr_acc 0.694866 , val_acc 0.365600 , lr 3.268817e-04, reg 2.420000e-04\n",
      "Epoch 15: loss 1.549637 , tr_acc 0.719798 , val_acc 0.369800 , lr 3.268817e-04, reg 2.420000e-04\n",
      "Epoch 16: loss 1.475239 , tr_acc 0.742821 , val_acc 0.368600 , lr 3.268817e-04, reg 2.420000e-04\n",
      "Epoch 17: loss 1.405850 , tr_acc 0.766376 , val_acc 0.370400 , lr 3.268817e-04, reg 2.420000e-04\n",
      "Epoch 18: loss 1.347146 , tr_acc 0.784789 , val_acc 0.366600 , lr 3.268817e-04, reg 2.420000e-04\n",
      "Epoch 19: loss 1.300493 , tr_acc 0.795793 , val_acc 0.368600 , lr 3.268817e-04, reg 2.420000e-04\n",
      "Epoch 20: loss 1.220908 , tr_acc 0.824762 , val_acc 0.376800 , lr 3.268817e-04, reg 2.420000e-04\n",
      "Epoch 21: loss 1.198891 , tr_acc 0.830979 , val_acc 0.373000 , lr 3.268817e-04, reg 2.420000e-04\n",
      "Epoch 22: loss 1.158110 , tr_acc 0.844189 , val_acc 0.363400 , lr 3.268817e-04, reg 2.420000e-04\n",
      "Epoch 23: loss 1.122548 , tr_acc 0.855207 , val_acc 0.379600 , lr 3.268817e-04, reg 2.420000e-04\n",
      "Epoch 24: loss 1.084622 , tr_acc 0.866729 , val_acc 0.380200 , lr 3.268817e-04, reg 2.420000e-04\n"
     ]
    },
    {
     "data": {
      "image/png": "[encoded data removed]",
      "text/plain": [
       "<matplotlib.figure.Figure at 0x7fe139a747d0>"
      ]
     },
     "metadata": {},
     "output_type": "display_data"
    }
   ],
   "source": [
    "\"\"\" Trying to fine tune regularization paramater to overcome overfitting , but all the models gave relatively the same validation accuracy \"\"\"\n",
    "nn2 = NeuralNetwork(3072,20,2,[3072,100])              # Specify Network Archietecure \n",
    "reg   = 4.635987 * (10**(-5))\n",
    "alpha = 3.268817 * (10**(-4))\n",
    "\n",
    "regs = [13.8*10**(-5) , 41.4*10**(-5) , 24.2*10**(-5)]   # increase regularization paramater by a factor of 3\n",
    "\n",
    "for i in range(len(regs)):\n",
    "    train_acc2 , valid_acc2 ,loss_hist2 ,train_loss2,valid_loss2,w_hist2,b_hist2 = nn2.train(Xtr,Ytr, Xval, Yval,alpha,regs[i],25,0,256)\n",
    "    plt.figure(i)\n",
    "    plt.xlabel(\"Number of Epochs\") \n",
    "    plt.ylabel(\"Accuracy\")\n",
    "    x = np.arange(len(valid_acc2))\n",
    "    plt.plot(x, valid_acc2, 'r--')\n",
    "    plt.plot(x, train_acc2, 'o--')\n",
    "    plt.show()      "
   ]
  }
 ],
 "metadata": {
  "kernelspec": {
   "display_name": "Python 3",
   "language": "python",
   "name": "python3"
  },
  "language_info": {
   "codemirror_mode": {
    "name": "ipython",
    "version": 3
   },
   "file_extension": ".py",
   "mimetype": "text/x-python",
   "name": "python",
   "nbconvert_exporter": "python",
   "pygments_lexer": "ipython3",
   "version": "3.6.4"
  }
 },
 "nbformat": 4,
 "nbformat_minor": 2
}
